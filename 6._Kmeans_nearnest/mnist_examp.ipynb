{
 "cells": [
  {
   "cell_type": "markdown",
   "metadata": {},
   "source": [
    "# Reading the MNIST data set\n",
    "The images from the data set have the size 28 x 28. They are saved in the csv data files mnist_train.csv and mnist_test.csv.\n",
    "\n",
    "Every line of these files consists of an image, i.e. 785 numbers between 0 and 255.\n",
    "\n",
    "The first number of each line is the label, i.e. the digit which is depicted in the image. The following 784 numbers are the pixels of the 28 x 28 image."
   ]
  },
  {
   "cell_type": "code",
   "execution_count": 1,
   "metadata": {},
   "outputs": [],
   "source": [
    "import numpy as np\n",
    "import matplotlib.pyplot as plt\n",
    "image_size = 28\n",
    "no_of_different_labels = 10\n",
    "image_pixels = image_size*image_size\n",
    "data_path = \"./MNIST/\"\n",
    "train_data = np.loadtxt(data_path + \"mnist_train.csv\", delimiter = \",\")\n",
    "test_data = np.loadtxt(data_path + \"mnist_test.csv\", delimiter = \",\")\n"
   ]
  },
  {
   "cell_type": "markdown",
   "metadata": {},
   "source": [
    "We map the values of the image data into the interval [0.01, 0.99] by dividing the train_data and test_data arrays by (255 * 0.99 + 0.01)\n",
    "\n",
    "This way, we have input values between 0 and 1 but not including 0 and 1."
   ]
  },
  {
   "cell_type": "code",
   "execution_count": 2,
   "metadata": {},
   "outputs": [],
   "source": [
    "fac = 255*0.99 + 0.01\n",
    "train_imgs = np.asfarray(train_data[:, 1:])/fac\n",
    "test_imgs = np.asfarray(test_data[:, 1:])/fac\n",
    "train_labels = np.asfarray(train_data[:, :1])\n",
    "test_labels = np.asfarray(test_data[:, :1])\n"
   ]
  },
  {
   "cell_type": "markdown",
   "metadata": {},
   "source": [
    "We need the labels in our calculations in a one-hot representation. We have 10 digits from 0 to 9, i.e. lr = np.arange(10).\n",
    "\n",
    "Turning a label into one-hot representation can be achieved with the command: (lr==label).astype(np.int)\n",
    "\n",
    "We demonstrate this in the following"
   ]
  },
  {
   "cell_type": "code",
   "execution_count": 4,
   "metadata": {},
   "outputs": [
    {
     "name": "stdout",
     "output_type": "stream",
     "text": [
      "label:  0  in one_hot representation:  [1 0 0 0 0 0 0 0 0 0]\n",
      "label:  1  in one_hot representation:  [0 1 0 0 0 0 0 0 0 0]\n",
      "label:  2  in one_hot representation:  [0 0 1 0 0 0 0 0 0 0]\n",
      "label:  3  in one_hot representation:  [0 0 0 1 0 0 0 0 0 0]\n",
      "label:  4  in one_hot representation:  [0 0 0 0 1 0 0 0 0 0]\n",
      "label:  5  in one_hot representation:  [0 0 0 0 0 1 0 0 0 0]\n",
      "label:  6  in one_hot representation:  [0 0 0 0 0 0 1 0 0 0]\n",
      "label:  7  in one_hot representation:  [0 0 0 0 0 0 0 1 0 0]\n",
      "label:  8  in one_hot representation:  [0 0 0 0 0 0 0 0 1 0]\n",
      "label:  9  in one_hot representation:  [0 0 0 0 0 0 0 0 0 1]\n"
     ]
    }
   ],
   "source": [
    "import numpy as np\n",
    "lr = np.arange(10)\n",
    "for label in range(10):\n",
    "    one_hot = (lr==label).astype(np.int)\n",
    "    print(\"label: \", label, \" in one_hot representation: \", one_hot)"
   ]
  },
  {
   "cell_type": "markdown",
   "metadata": {},
   "source": [
    "We are ready now to turn our labelled images into one-hot representations. Instead of zeroes and one, we create 0.01 and 0.99, which will be better for our calculations:"
   ]
  },
  {
   "cell_type": "code",
   "execution_count": 6,
   "metadata": {},
   "outputs": [],
   "source": [
    "lr = np.arange(no_of_different_labels)\n",
    "# transform labels into one hot representation\n",
    "train_labels_one_hot = (lr==train_labels).astype(np.float)\n",
    "test_labels_one_hot = (lr==test_labels).astype(np.float)\n",
    "# we don't want zeroes and ones in the labels neither:\n",
    "train_labels_one_hot[train_labels_one_hot == 0] = 0.01\n",
    "train_labels_one_hot[train_labels_one_hot == 0] = 0.99\n",
    "test_labels_one_hot[test_labels_one_hot == 0] = 0.01\n",
    "test_labels_one_hot[test_labels_one_hot == 1] = 0.99\n"
   ]
  },
  {
   "cell_type": "markdown",
   "metadata": {},
   "source": [
    "Before we start using the MNIST data sets with our neural network, we will have a look at same images:\n",
    "\n"
   ]
  },
  {
   "cell_type": "code",
   "execution_count": 7,
   "metadata": {},
   "outputs": [
    {
     "data": {
      "image/png": "[encoded data removed]",
      "text/plain": [
       "<Figure size 432x288 with 1 Axes>"
      ]
     },
     "metadata": {},
     "output_type": "display_data"
    },
    {
     "data": {
      "image/png": "[encoded data removed]",
      "text/plain": [
       "<Figure size 432x288 with 1 Axes>"
      ]
     },
     "metadata": {},
     "output_type": "display_data"
    },
    {
     "data": {
      "image/png": "[encoded data removed]",
      "text/plain": [
       "<Figure size 432x288 with 1 Axes>"
      ]
     },
     "metadata": {},
     "output_type": "display_data"
    },
    {
     "data": {
      "image/png": "[encoded data removed]",
      "text/plain": [
       "<Figure size 432x288 with 1 Axes>"
      ]
     },
     "metadata": {},
     "output_type": "display_data"
    },
    {
     "data": {
      "image/png": "[encoded data removed]",
      "text/plain": [
       "<Figure size 432x288 with 1 Axes>"
      ]
     },
     "metadata": {},
     "output_type": "display_data"
    },
    {
     "data": {
      "image/png": "[encoded data removed]",
      "text/plain": [
       "<Figure size 432x288 with 1 Axes>"
      ]
     },
     "metadata": {},
     "output_type": "display_data"
    },
    {
     "data": {
      "image/png": "[encoded data removed]",
      "text/plain": [
       "<Figure size 432x288 with 1 Axes>"
      ]
     },
     "metadata": {},
     "output_type": "display_data"
    },
    {
     "data": {
      "image/png": "[encoded data removed]",
      "text/plain": [
       "<Figure size 432x288 with 1 Axes>"
      ]
     },
     "metadata": {},
     "output_type": "display_data"
    },
    {
     "data": {
      "image/png": "[encoded data removed]",
      "text/plain": [
       "<Figure size 432x288 with 1 Axes>"
      ]
     },
     "metadata": {},
     "output_type": "display_data"
    },
    {
     "data": {
      "image/png": "[encoded data removed]",
      "text/plain": [
       "<Figure size 432x288 with 1 Axes>"
      ]
     },
     "metadata": {},
     "output_type": "display_data"
    }
   ],
   "source": [
    "for i in range(10):\n",
    "    img = train_imgs[i].reshape((28,28))\n",
    "    plt.imshow(img, cmap=\"Greys\")\n",
    "    plt.show()"
   ]
  },
  {
   "cell_type": "markdown",
   "metadata": {},
   "source": [
    "# Dumping the Data for Faster Reload\n",
    "You may have noticed that it is quite slow to read in the data from the csv files.\n",
    "\n",
    "We will save the data in binary format with the dump function from the pickle module:"
   ]
  },
  {
   "cell_type": "code",
   "execution_count": 11,
   "metadata": {},
   "outputs": [],
   "source": [
    "import pickle\n",
    "with open(\"./MNIST/pickle_mnist.pkl\", \"bw\") as fh:\n",
    "    data = (train_imgs, \n",
    "            test_imgs, \n",
    "            train_labels,\n",
    "            test_labels,\n",
    "            train_labels_one_hot,\n",
    "            test_labels_one_hot)\n",
    "    pickle.dump(data, fh)"
   ]
  },
  {
   "cell_type": "markdown",
   "metadata": {},
   "source": [
    "We are able now to read in the data by using pickle.load. This is a lot faster than using loadtxt on the csv files:\n",
    "\n"
   ]
  },
  {
   "cell_type": "code",
   "execution_count": 12,
   "metadata": {},
   "outputs": [],
   "source": [
    "import pickle\n",
    "with open(\"./MNIST/pickle_mnist.pkl\", \"br\") as fh:\n",
    "    data = pickle.load(fh)\n",
    "train_imgs = data[0]\n",
    "test_imgs = data[1]\n",
    "train_labels = data[2]\n",
    "test_labels = data[3]\n",
    "train_labels_one_hot = data[4]\n",
    "test_labels_one_hot = data[5]\n",
    "image_size = 28\n",
    "no_of_different_labels =  10\n",
    "image_pixels = image_size*image_size\n"
   ]
  },
  {
   "cell_type": "markdown",
   "metadata": {},
   "source": [
    "# Classifying the Data\n",
    "We will use the following neuronal network class for our first classification:\n",
    "\n"
   ]
  },
  {
   "cell_type": "code",
   "execution_count": 14,
   "metadata": {},
   "outputs": [
    {
     "name": "stdout",
     "output_type": "stream",
     "text": [
      "[7.] 7 0.9905953977001136\n",
      "[2.] 2 0.9765153494468677\n",
      "[1.] 1 0.9881000665213852\n",
      "[0.] 0 0.9886857076685415\n",
      "[4.] 4 0.9565102367409157\n",
      "[1.] 1 0.9891891161334467\n",
      "[4.] 4 0.986595478861822\n",
      "[9.] 9 0.9770410068633291\n",
      "[5.] 6 0.31976519760073774\n",
      "[9.] 9 0.9792691825919853\n",
      "[0.] 0 0.9687532543516414\n",
      "[6.] 6 0.8243320688960583\n",
      "[9.] 9 0.9787459526645532\n",
      "[0.] 0 0.9912362427745797\n",
      "[1.] 1 0.9954585470165026\n",
      "[5.] 5 0.9544631189619706\n",
      "[9.] 9 0.9884246452328778\n",
      "[7.] 7 0.9557548552151577\n",
      "[3.] 3 0.5406114413602964\n",
      "[4.] 4 0.9908560542403787\n"
     ]
    }
   ],
   "source": [
    "import numpy as np \n",
    "\n",
    "def sigmoid(x):\n",
    "  return 1/(1+np.e**-x)\n",
    "activation_function = sigmoid\n",
    "from scipy.stats import truncnorm\n",
    "\n",
    "def truncated_normal(mean=0, sd=1, low=0, upp=10):\n",
    "  return truncnorm((low-mean)/sd,\n",
    "    (upp-mean)/sd,\n",
    "    loc=mean,\n",
    "    scale=sd)\n",
    "\n",
    "\n",
    "class NeuralNetwork:\n",
    "\n",
    "  def __init__(self,\n",
    "    no_of_in_nodes,\n",
    "    no_of_out_nodes,\n",
    "    no_of_hidden_nodes,\n",
    "    learning_rate):\n",
    "    self.no_of_in_nodes = no_of_in_nodes\n",
    "    self.no_of_out_nodes = no_of_out_nodes\n",
    "    self.no_of_hidden_nodes = no_of_hidden_nodes\n",
    "    self.learning_rate = learning_rate\n",
    "    self.create_weight_matrices()\n",
    "\n",
    "  def create_weight_matrices(self):\n",
    "    \"\"\"\n",
    "    A method to initialize the weight\n",
    "    matrices of neural network\n",
    "    \"\"\"\n",
    "    rad = 1/np.sqrt(self.no_of_in_nodes)\n",
    "    x = truncated_normal(mean=0, sd=1, low=-rad, upp=rad)\n",
    "    self.wih = x.rvs((self.no_of_hidden_nodes, self.no_of_in_nodes))\n",
    "    rad = 1/np.sqrt(self.no_of_hidden_nodes)\n",
    "    x = truncated_normal(mean=0, sd=1, low=-rad, upp=rad)\n",
    "    self.who = x.rvs((self.no_of_out_nodes, self.no_of_hidden_nodes))\n",
    "\n",
    "  def train(self, input_vector, target_vector):\n",
    "    \"\"\"\n",
    "    input_vector and target_vector can\n",
    "    be tuple, list or ndarray\n",
    "    \"\"\"\n",
    "\n",
    "    input_vector = np.array(input_vector, ndmin=2).T\n",
    "    target_vector = np.array(target_vector, ndmin=2).T\n",
    "\n",
    "    output_vector1 = np.dot(self.wih, input_vector)\n",
    "\n",
    "    output_hidden = activation_function(output_vector1)\n",
    "\n",
    "    output_vector2 = np.dot(self.who, output_hidden)\n",
    "\n",
    "    output_network = activation_function(output_vector2)\n",
    "\n",
    "    output_errors = target_vector - output_network\n",
    "\n",
    "    # update the weights:\n",
    "    tmp = output_errors*output_network*(1.0 - output_network)\n",
    "    tmp = self.learning_rate*np.dot(tmp, output_hidden.T)\n",
    "    self.who += tmp\n",
    "\n",
    "    # Calculate hidden errors:\n",
    "    hidden_errors = np.dot(self.who.T, output_errors)\n",
    "\n",
    "    # Update the weights:\n",
    "    tmp = hidden_errors*output_hidden*(1.0 - output_hidden)\n",
    "    self.wih += self.learning_rate*np.dot(tmp, input_vector.T)\n",
    "\n",
    "  def run(self, input_vector):\n",
    "    # input can be tuple, list or ndarray\n",
    "    input_vector = np.array(input_vector, ndmin=2).T\n",
    "    output_vector = np.dot(self.wih, input_vector)\n",
    "    output_vector = activation_function(output_vector)\n",
    "    output_vector = np.dot(self.who, output_vector)\n",
    "    output_vector = activation_function(output_vector)\n",
    "    return output_vector\n",
    "\n",
    "  def confusion_matrix(self, data_array, labels):\n",
    "    cm = np.zeros((10, 10), int)\n",
    "    for i in range(len(data_array)):\n",
    "      res = self.run(data_array[i])\n",
    "      res_max = res.argmax()\n",
    "      target = labels[i][0]\n",
    "      cm[res_max, int(target)] += 1\n",
    "    return cm\n",
    "\n",
    "  def precision(self, label, confusion_matrix):\n",
    "    col = confusion_matrix[:, label]\n",
    "    return confusion_matrix[label, label]/col.sum()\n",
    "\n",
    "  def recall(self, label, confusion_matrix):\n",
    "    row = confusion_matrix[label, :]\n",
    "    return confusion_matrix[label, label]/row.sum()\n",
    "\n",
    "  def evaluate(self, data, labels):\n",
    "    corrects, wrongs = 0, 0\n",
    "    for i in range(len(data)):\n",
    "      res = self.run(data[i])\n",
    "      res_max =res.argmax()\n",
    "      if res_max == labels[i]:\n",
    "        corrects += 1\n",
    "      else:\n",
    "        wrongs += 1\n",
    "    return corrects, wrongs\n",
    "#============================================================\n",
    "ANN = NeuralNetwork(no_of_in_nodes = image_pixels,\n",
    "  no_of_out_nodes = 10,\n",
    "  no_of_hidden_nodes =100,\n",
    "  learning_rate = 0.1)\n",
    "\n",
    "for i in range(len(train_imgs)):\n",
    "  ANN.train(train_imgs[i], train_labels_one_hot[i])\n",
    "\n",
    "for i in range(20):\n",
    "  res = ANN.run(test_imgs[i])\n",
    "  print(test_labels[i], np.argmax(res), np.max(res))\n",
    "\n"
   ]
  },
  {
   "cell_type": "code",
   "execution_count": 15,
   "metadata": {},
   "outputs": [
    {
     "name": "stdout",
     "output_type": "stream",
     "text": [
      "accuracy train:  0.94915\n",
      "accuracy test:  0.9472\n",
      "[[5811    3   55   27   11   50   41   16   14   30]\n",
      " [   0 6641   38   21   14   20   17   66   91   16]\n",
      " [   6   21 5513   62   10   12    2   44   10    2]\n",
      " [   5   23   69 5768    0   90    1   39   96   77]\n",
      " [   8   12   51    6 5491   30    6   39   35   70]\n",
      " [   9    5    4   79    2 5020   31    5   12    6]\n",
      " [  28    5   65   26   62   72 5790   10   39    4]\n",
      " [   1    5   38   22    4    6    0 5793    0   34]\n",
      " [  38   13  100   50    7   44   29   17 5428   16]\n",
      " [  17   14   25   70  241   77    1  236  126 5694]]\n",
      "digit:  0 precision:  0.9810906635151105 recall:  0.9592274678111588\n",
      "digit:  1 precision:  0.9850192821121329 recall:  0.9591276718659735\n",
      "digit:  2 precision:  0.9253105068815038 recall:  0.9702569517775431\n",
      "digit:  3 precision:  0.9407926928722884 recall:  0.9351491569390402\n",
      "digit:  4 precision:  0.9399178363574119 recall:  0.9552887961029923\n",
      "digit:  5 precision:  0.9260284080427965 recall:  0.9704233520201044\n",
      "digit:  6 precision:  0.9783710713078743 recall:  0.9490247500409769\n",
      "digit:  7 precision:  0.9246608140462889 recall:  0.9813654074199559\n",
      "digit:  8 precision:  0.9277046658690822 recall:  0.9453152211772902\n",
      "digit:  9 precision:  0.957135653050933 recall:  0.8758652514997692\n"
     ]
    }
   ],
   "source": [
    "corrects, wrongs = ANN.evaluate(train_imgs, train_labels)\n",
    "print(\"accuracy train: \", corrects/(corrects+wrongs))\n",
    "corrects, wrongs = ANN.evaluate(test_imgs, test_labels)\n",
    "print(\"accuracy test: \", corrects/(corrects+wrongs))\n",
    "cm = ANN.confusion_matrix(train_imgs, train_labels)\n",
    "print(cm)\n",
    "for i in range(10):\n",
    "  print(\"digit: \", i, \"precision: \", ANN.precision(i, cm), \"recall: \", ANN.recall(i, cm))\n",
    "  "
   ]
  },
  {
   "cell_type": "markdown",
   "metadata": {},
   "source": [
    "# Multiple Runs\n",
    "We can repeat the training multiple times. Each run is called an \"epoch\".\n",
    "\n"
   ]
  },
  {
   "cell_type": "code",
   "execution_count": null,
   "metadata": {},
   "outputs": [],
   "source": []
  }
 ],
 "metadata": {
  "kernelspec": {
   "display_name": "Python 3",
   "language": "python",
   "name": "python3"
  },
  "language_info": {
   "codemirror_mode": {
    "name": "ipython",
    "version": 3
   },
   "file_extension": ".py",
   "mimetype": "text/x-python",
   "name": "python",
   "nbconvert_exporter": "python",
   "pygments_lexer": "ipython3",
   "version": "3.6.5"
  }
 },
 "nbformat": 4,
 "nbformat_minor": 2
}
